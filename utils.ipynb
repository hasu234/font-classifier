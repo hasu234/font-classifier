{
 "cells": [
  {
   "cell_type": "markdown",
   "metadata": {},
   "source": [
    "# Dataset Statistics"
   ]
  },
  {
   "cell_type": "code",
   "execution_count": null,
   "metadata": {},
   "outputs": [],
   "source": [
    "import os\n",
    "import matplotlib.pyplot as plt\n",
    "from PIL import Image\n",
    "import numpy as np\n",
    "from collections import Counter\n",
    "import torchvision.transforms as transforms\n",
    "from fontClassifier import FontDataset\n",
    "from torchvision import datasets\n",
    "\n",
    "def get_dataset_statistics(root_dir):\n",
    "    # Initialize lists to store image dimensions and class labels\n",
    "    image_dims = []\n",
    "    class_counts = Counter()\n",
    "\n",
    "    # Iterate through the dataset folder to get statistics\n",
    "    for class_name in os.listdir(root_dir):\n",
    "        class_dir = os.path.join(root_dir, class_name)\n",
    "        if os.path.isdir(class_dir):\n",
    "            for img_file in os.listdir(class_dir):\n",
    "                if img_file.endswith(('.png', '.jpg', '.jpeg')):\n",
    "                    img_path = os.path.join(class_dir, img_file)\n",
    "                    # Get image dimensions\n",
    "                    with Image.open(img_path) as img:\n",
    "                        width, height = img.size\n",
    "                        image_dims.append((width, height))\n",
    "                    # Count class occurrences\n",
    "                    class_counts[class_name] += 1\n",
    "\n",
    "    # Calculate the average image dimensions\n",
    "    avg_width = np.mean([dim[0] for dim in image_dims])\n",
    "    avg_height = np.mean([dim[1] for dim in image_dims])\n",
    "\n",
    "    return class_counts, image_dims, avg_width, avg_height\n",
    "\n",
    "\n",
    "def visualize_class_distribution(class_counts):\n",
    "    # Plot the class distribution\n",
    "    classes = list(class_counts.keys())\n",
    "    counts = list(class_counts.values())\n",
    "\n",
    "    plt.figure(figsize=(10, 6))\n",
    "    plt.barh(classes, counts, color='skyblue')\n",
    "    plt.xlabel('Number of Images')\n",
    "    plt.title('Class Distribution')\n",
    "    plt.show()\n",
    "\n",
    "\n",
    "def visualize_image_dimensions(image_dims, avg_width, avg_height):\n",
    "    # Plot the image dimensions\n",
    "    widths = [dim[0] for dim in image_dims]\n",
    "    heights = [dim[1] for dim in image_dims]\n",
    "\n",
    "    plt.figure(figsize=(10, 6))\n",
    "    plt.scatter(widths, heights, alpha=0.5, color='purple')\n",
    "    plt.axvline(avg_width, color='red', linestyle='--', label=f'Average Width ({avg_width:.2f})')\n",
    "    plt.axhline(avg_height, color='green', linestyle='--', label=f'Average Height ({avg_height:.2f})')\n",
    "    plt.xlabel('Width')\n",
    "    plt.ylabel('Height')\n",
    "    plt.title('Image Dimensions')\n",
    "    plt.legend()\n",
    "    plt.show()\n",
    "\n",
    "# Example of how to use the functions\n",
    "dataset_path = \"Dataset\"  # Replace with dataset path\n",
    "\n",
    "# Get statistics of the dataset\n",
    "class_counts, image_dims, avg_width, avg_height = get_dataset_statistics(dataset_path)\n",
    "\n",
    "# Visualize the class distribution\n",
    "visualize_class_distribution(class_counts)\n",
    "\n",
    "# Visualize the image dimensions\n",
    "visualize_image_dimensions(image_dims, avg_width, avg_height)"
   ]
  },
  {
   "cell_type": "markdown",
   "metadata": {},
   "source": [
    "# Necessary Modules"
   ]
  },
  {
   "cell_type": "code",
   "execution_count": 1,
   "metadata": {},
   "outputs": [],
   "source": [
    "import os\n",
    "import torch\n",
    "import numpy as np\n",
    "from PIL import Image\n",
    "from torch.utils.data import Dataset, DataLoader, random_split\n",
    "from preprocessing import correct_skew, select_text_area, binarize_image\n",
    "import torchvision.transforms as transforms\n",
    "import matplotlib.pyplot as plt\n",
    "from fontClassifier import FontDataset, ResNet"
   ]
  },
  {
   "cell_type": "markdown",
   "metadata": {},
   "source": [
    "# Preprocessing and data augmentation"
   ]
  },
  {
   "cell_type": "code",
   "execution_count": 2,
   "metadata": {},
   "outputs": [],
   "source": [
    "# Ppreprocessing function\n",
    "def preprocess_data(img):\n",
    "    img = binarize_image(img)\n",
    "    img, _ = correct_skew(img)\n",
    "    img = select_text_area(img)\n",
    "    # Ensure the output is a PIL Image\n",
    "    if isinstance(img, np.ndarray):\n",
    "        img = Image.fromarray(img)\n",
    "    return img\n",
    "\n",
    "# Define transformations for data augmentation\n",
    "train_transforms = transforms.Compose([\n",
    "    transforms.Resize((64, 256)),\n",
    "    transforms.ToTensor()\n",
    "])\n",
    "\n",
    "test_transforms = transforms.Compose([\n",
    "    transforms.Resize((64, 256)),\n",
    "    transforms.ToTensor()\n",
    "])\n"
   ]
  },
  {
   "cell_type": "markdown",
   "metadata": {},
   "source": [
    "# Dataset Preparation"
   ]
  },
  {
   "cell_type": "code",
   "execution_count": 3,
   "metadata": {},
   "outputs": [],
   "source": [
    "# Define dataset path\n",
    "dataset_path = \"Dataset\"\n",
    "\n",
    "# Load the dataset without any transforms initially\n",
    "original_dataset = FontDataset(root_dir=dataset_path, preprocess_func=preprocess_data)\n",
    "\n",
    "# Split the dataset into train (80%), validation (10%), and test (10%) sets\n",
    "train_size = int(0.8 * len(original_dataset))\n",
    "val_size = int(0.1 * len(original_dataset))\n",
    "test_size = len(original_dataset) - train_size - val_size\n",
    "\n",
    "train_indices, val_indices, test_indices = random_split(range(len(original_dataset)), [train_size, val_size, test_size])\n",
    "\n",
    "# Create subsets with different transforms\n",
    "train_dataset = FontDataset(root_dir=dataset_path, preprocess_func=preprocess_data, transform=train_transforms)\n",
    "val_dataset = FontDataset(root_dir=dataset_path, preprocess_func=preprocess_data, transform=test_transforms)\n",
    "test_dataset = FontDataset(root_dir=dataset_path, preprocess_func=preprocess_data, transform=test_transforms)\n",
    "\n",
    "# Subset datasets\n",
    "train_dataset.data = [original_dataset.data[i] for i in train_indices.indices]\n",
    "train_dataset.labels = [original_dataset.labels[i] for i in train_indices.indices]\n",
    "val_dataset.data = [original_dataset.data[i] for i in val_indices.indices]\n",
    "val_dataset.labels = [original_dataset.labels[i] for i in val_indices.indices]\n",
    "test_dataset.data = [original_dataset.data[i] for i in test_indices.indices]\n",
    "test_dataset.labels = [original_dataset.labels[i] for i in test_indices.indices]\n",
    "\n",
    "# Create data loaders\n",
    "train_loader = DataLoader(train_dataset, batch_size=32, shuffle=True)\n",
    "val_loader = DataLoader(val_dataset, batch_size=32, shuffle=False)\n",
    "test_loader = DataLoader(test_dataset, batch_size=32, shuffle=False)"
   ]
  },
  {
   "cell_type": "markdown",
   "metadata": {},
   "source": [
    "# Data Visualization"
   ]
  },
  {
   "cell_type": "code",
   "execution_count": 14,
   "metadata": {},
   "outputs": [],
   "source": [
    "import matplotlib.pyplot as plt\n",
    "import torch\n",
    "\n",
    "def visualize_data(loader, classes, num_images=5):\n",
    "    \"\"\"\n",
    "    Visualize a few images and their corresponding labels from a DataLoader.\n",
    "\n",
    "    Args:\n",
    "    - loader (torch.utils.data.DataLoader): DataLoader to visualize.\n",
    "    - classes (list): List of class names.\n",
    "    - num_images (int): Number of images to visualize.\n",
    "    \"\"\"\n",
    "    # Get a batch of data\n",
    "    data_iter = iter(loader)\n",
    "    images, labels = next(data_iter)\n",
    "\n",
    "    # Create a figure for visualization\n",
    "    fig, axes = plt.subplots(1, num_images, figsize=(15, 5))\n",
    "    for i in range(num_images):\n",
    "        img = images[i].permute(1, 2, 0).numpy()  # Convert from CHW to HWC and NumPy array\n",
    "        label = classes[labels[i].item()]\n",
    "        axes[i].imshow(img)\n",
    "        axes[i].set_title(label)\n",
    "        axes[i].axis(\"off\")\n",
    "    plt.tight_layout()\n",
    "    plt.show()\n"
   ]
  },
  {
   "cell_type": "code",
   "execution_count": 15,
   "metadata": {},
   "outputs": [
    {
     "data": {
      "image/png": "[encoded data removed]",
      "text/plain": [
       "<Figure size 1500x500 with 5 Axes>"
      ]
     },
     "metadata": {},
     "output_type": "display_data"
    }
   ],
   "source": [
    "# Visualize training data\n",
    "visualize_data(train_loader, train_dataset.classes)\n"
   ]
  },
  {
   "cell_type": "markdown",
   "metadata": {},
   "source": [
    "# Training"
   ]
  },
  {
   "cell_type": "code",
   "execution_count": 5,
   "metadata": {},
   "outputs": [],
   "source": [
    "import torch\n",
    "import torch.nn as nn\n",
    "import torch.optim as optim\n",
    "from tqdm import tqdm\n",
    "from torch.utils.data import DataLoader, random_split\n",
    "from sklearn.metrics import accuracy_score, classification_report\n",
    "import matplotlib.pyplot as plt\n",
    "\n",
    "# Define the ResidualBlock class (same as before)\n",
    "\n",
    "class ResidualBlock(nn.Module):\n",
    "    def __init__(self, in_channels, out_channels, stride=1):\n",
    "        super(ResidualBlock, self).__init__()\n",
    "        self.conv1 = nn.Conv2d(in_channels, out_channels, kernel_size=3, stride=stride, padding=1, bias=False)\n",
    "        self.bn1 = nn.BatchNorm2d(out_channels)\n",
    "        self.relu = nn.ReLU(inplace=True)\n",
    "        self.conv2 = nn.Conv2d(out_channels, out_channels, kernel_size=3, stride=1, padding=1, bias=False)\n",
    "        self.bn2 = nn.BatchNorm2d(out_channels)\n",
    "        \n",
    "        self.shortcut = nn.Sequential()\n",
    "        if stride != 1 or in_channels != out_channels:\n",
    "            self.shortcut = nn.Sequential(\n",
    "                nn.Conv2d(in_channels, out_channels, kernel_size=1, stride=stride, bias=False),\n",
    "                nn.BatchNorm2d(out_channels)\n",
    "            )\n",
    "    \n",
    "    def forward(self, x):\n",
    "        residual = x\n",
    "        out = self.conv1(x)\n",
    "        out = self.bn1(out)\n",
    "        out = self.relu(out)\n",
    "        out = self.conv2(out)\n",
    "        out = self.bn2(out)\n",
    "        out += self.shortcut(residual)\n",
    "        out = self.relu(out)\n",
    "        return out\n",
    "\n",
    "# Define the ResNet model (same as before)\n",
    "\n",
    "class ResNet(nn.Module):\n",
    "    def __init__(self, num_classes=4):\n",
    "        super(ResNet, self).__init__()\n",
    "        self.in_channels = 64\n",
    "        self.conv1 = nn.Conv2d(3, 64, kernel_size=7, stride=2, padding=3, bias=False)\n",
    "        self.bn1 = nn.BatchNorm2d(64)\n",
    "        self.relu = nn.ReLU(inplace=True)\n",
    "        self.maxpool = nn.MaxPool2d(kernel_size=3, stride=2, padding=1)\n",
    "        \n",
    "        self.layer1 = self._make_layer(64, 2)\n",
    "        self.layer2 = self._make_layer(128, 2, stride=2)\n",
    "        self.layer3 = self._make_layer(256, 2, stride=2)\n",
    "        self.layer4 = self._make_layer(512, 2, stride=2)\n",
    "        \n",
    "        self.avgpool = nn.AdaptiveAvgPool2d((1, 1))\n",
    "        self.fc = nn.Linear(512, num_classes)\n",
    "    \n",
    "    def _make_layer(self, out_channels, num_blocks, stride=1):\n",
    "        layers = []\n",
    "        layers.append(ResidualBlock(self.in_channels, out_channels, stride))\n",
    "        self.in_channels = out_channels\n",
    "        for _ in range(1, num_blocks):\n",
    "            layers.append(ResidualBlock(out_channels, out_channels))\n",
    "        return nn.Sequential(*layers)\n",
    "    \n",
    "    def forward(self, x):\n",
    "        out = self.conv1(x)\n",
    "        out = self.bn1(out)\n",
    "        out = self.relu(out)\n",
    "        out = self.maxpool(out)\n",
    "        \n",
    "        out = self.layer1(out)\n",
    "        out = self.layer2(out)\n",
    "        out = self.layer3(out)\n",
    "        out = self.layer4(out)\n",
    "        \n",
    "        out = self.avgpool(out)\n",
    "        out = out.view(out.size(0), -1)  # Flatten before FC\n",
    "        out = self.fc(out)\n",
    "        return out\n",
    "\n",
    "# Define the training loop with validation and saving the best model\n",
    "def train(model, train_loader, val_loader, test_loader, num_epochs=10, learning_rate=0.001):\n",
    "    criterion = nn.CrossEntropyLoss()\n",
    "    optimizer = optim.Adam(model.parameters(), lr=learning_rate)\n",
    "\n",
    "    device = torch.device('cuda' if torch.cuda.is_available() else 'cpu')\n",
    "    model.to(device)\n",
    "\n",
    "    best_val_accuracy = 0.0  # To track the best validation accuracy\n",
    "    best_model_wts = None  # To store the best model weights\n",
    "\n",
    "    for epoch in range(num_epochs):\n",
    "        model.train()\n",
    "        running_loss = 0.0\n",
    "        correct_preds = 0\n",
    "        total_preds = 0\n",
    "\n",
    "        for images, labels in tqdm(train_loader, desc=f\"Epoch {epoch + 1}/{num_epochs}\"):\n",
    "            images, labels = images.to(device), labels.to(device)\n",
    "            optimizer.zero_grad()\n",
    "\n",
    "            outputs = model(images)\n",
    "            loss = criterion(outputs, labels)\n",
    "            loss.backward()\n",
    "            optimizer.step()\n",
    "\n",
    "            _, predicted = torch.max(outputs, 1)\n",
    "            correct_preds += (predicted == labels).sum().item()\n",
    "            total_preds += labels.size(0)\n",
    "\n",
    "            running_loss += loss.item()\n",
    "\n",
    "        train_accuracy = 100 * correct_preds / total_preds\n",
    "        avg_train_loss = running_loss / len(train_loader)\n",
    "\n",
    "        # Validation step\n",
    "        model.eval()\n",
    "        correct_preds = 0\n",
    "        total_preds = 0\n",
    "        with torch.no_grad():\n",
    "            for images, labels in val_loader:\n",
    "                images, labels = images.to(device), labels.to(device)\n",
    "                outputs = model(images)\n",
    "                _, predicted = torch.max(outputs, 1)\n",
    "                correct_preds += (predicted == labels).sum().item()\n",
    "                total_preds += labels.size(0)\n",
    "\n",
    "        val_accuracy = 100 * correct_preds / total_preds\n",
    "\n",
    "        # Save the best model\n",
    "        if val_accuracy > best_val_accuracy:\n",
    "            best_val_accuracy = val_accuracy\n",
    "            best_model_wts = model.state_dict()\n",
    "\n",
    "        print(f\"Epoch [{epoch + 1}/{num_epochs}]\")\n",
    "        print(f\"Train Loss: {avg_train_loss:.4f}, Train Accuracy: {train_accuracy:.2f}%\")\n",
    "        print(f\"Validation Accuracy: {val_accuracy:.2f}%\")\n",
    "\n",
    "    # Load the best model weights\n",
    "    model.load_state_dict(best_model_wts)\n",
    "    \n",
    "    # Evaluate on the test set\n",
    "    model.eval()\n",
    "    correct_preds = 0\n",
    "    total_preds = 0\n",
    "    with torch.no_grad():\n",
    "        for images, labels in test_loader:\n",
    "            images, labels = images.to(device), labels.to(device)\n",
    "            outputs = model(images)\n",
    "            _, predicted = torch.max(outputs, 1)\n",
    "            correct_preds += (predicted == labels).sum().item()\n",
    "            total_preds += labels.size(0)\n",
    "\n",
    "    test_accuracy = 100 * correct_preds / total_preds\n",
    "    print(f\"Test Accuracy: {test_accuracy:.2f}%\")\n",
    "\n",
    "    # Save the best model to a file\n",
    "    torch.save(best_model_wts, 'best_resnet_model.pth')\n",
    "    print(f\"Best model saved with validation accuracy: {best_val_accuracy:.2f}%\")\n",
    "\n",
    "# Instantiate the model\n",
    "model = ResNet(num_classes=4)\n",
    "\n",
    "# Train the model\n",
    "train(model, train_loader, val_loader, test_loader, num_epochs=10, learning_rate=0.001)\n"
   ]
  },
  {
   "cell_type": "markdown",
   "metadata": {},
   "source": [
    "# Saving the model weight"
   ]
  },
  {
   "cell_type": "code",
   "execution_count": null,
   "metadata": {},
   "outputs": [],
   "source": [
    "# Save the trained model to a file\n",
    "def save_model(model, filename='resnet_model.pth'):\n",
    "    torch.save(model.state_dict(), filename)\n",
    "    print(f'Model saved as {filename}')\n",
    "\n",
    "# After training, save the model\n",
    "save_model(model, filename='resnet_trained.pth')"
   ]
  },
  {
   "cell_type": "markdown",
   "metadata": {},
   "source": [
    "# Training with WandB tracking"
   ]
  },
  {
   "cell_type": "code",
   "execution_count": 4,
   "metadata": {},
   "outputs": [
    {
     "name": "stderr",
     "output_type": "stream",
     "text": [
      "wandb: Using wandb-core as the SDK backend.  Please refer to https://wandb.me/wandb-core for more information.\n",
      "wandb: Currently logged in as: hasmot23 (hasmot23-daffodil-international-university). Use `wandb login --relogin` to force relogin\n"
     ]
    },
    {
     "data": {
      "text/html": [
       "Tracking run with wandb version 0.18.7"
      ],
      "text/plain": [
       "<IPython.core.display.HTML object>"
      ]
     },
     "metadata": {},
     "output_type": "display_data"
    },
    {
     "data": {
      "text/html": [
       "Run data is saved locally in <code>c:\\Users\\hasmo\\Documents\\FontClassifier\\font-classifier\\wandb\\run-20241117_010856-8ip7kpd0</code>"
      ],
      "text/plain": [
       "<IPython.core.display.HTML object>"
      ]
     },
     "metadata": {},
     "output_type": "display_data"
    },
    {
     "data": {
      "text/html": [
       "Syncing run <strong><a href='https://wandb.ai/hasmot23-daffodil-international-university/resnet-font-classification/runs/8ip7kpd0' target=\"_blank\">apricot-sound-1</a></strong> to <a href='https://wandb.ai/hasmot23-daffodil-international-university/resnet-font-classification' target=\"_blank\">Weights & Biases</a> (<a href='https://wandb.me/developer-guide' target=\"_blank\">docs</a>)<br/>"
      ],
      "text/plain": [
       "<IPython.core.display.HTML object>"
      ]
     },
     "metadata": {},
     "output_type": "display_data"
    },
    {
     "data": {
      "text/html": [
       " View project at <a href='https://wandb.ai/hasmot23-daffodil-international-university/resnet-font-classification' target=\"_blank\">https://wandb.ai/hasmot23-daffodil-international-university/resnet-font-classification</a>"
      ],
      "text/plain": [
       "<IPython.core.display.HTML object>"
      ]
     },
     "metadata": {},
     "output_type": "display_data"
    },
    {
     "data": {
      "text/html": [
       " View run at <a href='https://wandb.ai/hasmot23-daffodil-international-university/resnet-font-classification/runs/8ip7kpd0' target=\"_blank\">https://wandb.ai/hasmot23-daffodil-international-university/resnet-font-classification/runs/8ip7kpd0</a>"
      ],
      "text/plain": [
       "<IPython.core.display.HTML object>"
      ]
     },
     "metadata": {},
     "output_type": "display_data"
    },
    {
     "name": "stderr",
     "output_type": "stream",
     "text": [
      "Epoch 1/25: 100%|██████████| 20/20 [01:50<00:00,  5.51s/it]\n",
      "c:\\Users\\hasmo\\miniconda3\\envs\\font\\lib\\site-packages\\sklearn\\metrics\\_classification.py:1531: UndefinedMetricWarning: Precision is ill-defined and being set to 0.0 in labels with no predicted samples. Use `zero_division` parameter to control this behavior.\n",
      "  _warn_prf(average, modifier, f\"{metric.capitalize()} is\", len(result))\n"
     ]
    },
    {
     "name": "stdout",
     "output_type": "stream",
     "text": [
      "Epoch [1/25]\n",
      "Train Loss: 1.0753, Train Accuracy: 52.97%\n",
      "Validation Loss: 1.6655, Validation Accuracy: 33.75%\n",
      "Precision: 0.2663, Recall: 0.3375, F1 Score: 0.2298\n"
     ]
    },
    {
     "name": "stderr",
     "output_type": "stream",
     "text": [
      "Epoch 2/25: 100%|██████████| 20/20 [01:58<00:00,  5.94s/it]\n",
      "c:\\Users\\hasmo\\miniconda3\\envs\\font\\lib\\site-packages\\sklearn\\metrics\\_classification.py:1531: UndefinedMetricWarning: Precision is ill-defined and being set to 0.0 in labels with no predicted samples. Use `zero_division` parameter to control this behavior.\n",
      "  _warn_prf(average, modifier, f\"{metric.capitalize()} is\", len(result))\n"
     ]
    },
    {
     "name": "stdout",
     "output_type": "stream",
     "text": [
      "Epoch [2/25]\n",
      "Train Loss: 0.5748, Train Accuracy: 68.28%\n",
      "Validation Loss: 0.9037, Validation Accuracy: 61.25%\n",
      "Precision: 0.5483, Recall: 0.6125, F1 Score: 0.5416\n"
     ]
    },
    {
     "name": "stderr",
     "output_type": "stream",
     "text": [
      "Epoch 3/25: 100%|██████████| 20/20 [02:02<00:00,  6.11s/it]\n"
     ]
    },
    {
     "name": "stdout",
     "output_type": "stream",
     "text": [
      "Epoch [3/25]\n",
      "Train Loss: 0.5062, Train Accuracy: 75.00%\n",
      "Validation Loss: 0.8834, Validation Accuracy: 60.00%\n",
      "Precision: 0.5565, Recall: 0.6000, F1 Score: 0.5414\n"
     ]
    },
    {
     "name": "stderr",
     "output_type": "stream",
     "text": [
      "Epoch 4/25: 100%|██████████| 20/20 [02:10<00:00,  6.54s/it]\n"
     ]
    },
    {
     "name": "stdout",
     "output_type": "stream",
     "text": [
      "Epoch [4/25]\n",
      "Train Loss: 0.4814, Train Accuracy: 79.22%\n",
      "Validation Loss: 0.4522, Validation Accuracy: 77.50%\n",
      "Precision: 0.7937, Recall: 0.7750, F1 Score: 0.7755\n"
     ]
    },
    {
     "name": "stderr",
     "output_type": "stream",
     "text": [
      "Epoch 5/25: 100%|██████████| 20/20 [02:01<00:00,  6.09s/it]\n",
      "c:\\Users\\hasmo\\miniconda3\\envs\\font\\lib\\site-packages\\sklearn\\metrics\\_classification.py:1531: UndefinedMetricWarning: Precision is ill-defined and being set to 0.0 in labels with no predicted samples. Use `zero_division` parameter to control this behavior.\n",
      "  _warn_prf(average, modifier, f\"{metric.capitalize()} is\", len(result))\n"
     ]
    },
    {
     "name": "stdout",
     "output_type": "stream",
     "text": [
      "Epoch [5/25]\n",
      "Train Loss: 0.3835, Train Accuracy: 85.62%\n",
      "Validation Loss: 1.3819, Validation Accuracy: 66.25%\n",
      "Precision: 0.5455, Recall: 0.6625, F1 Score: 0.5798\n"
     ]
    },
    {
     "name": "stderr",
     "output_type": "stream",
     "text": [
      "Epoch 6/25: 100%|██████████| 20/20 [02:07<00:00,  6.38s/it]\n"
     ]
    },
    {
     "name": "stdout",
     "output_type": "stream",
     "text": [
      "Epoch [6/25]\n",
      "Train Loss: 0.2546, Train Accuracy: 90.31%\n",
      "Validation Loss: 2.1316, Validation Accuracy: 56.25%\n",
      "Precision: 0.8409, Recall: 0.5625, F1 Score: 0.5119\n"
     ]
    },
    {
     "name": "stderr",
     "output_type": "stream",
     "text": [
      "Epoch 7/25: 100%|██████████| 20/20 [01:58<00:00,  5.90s/it]\n"
     ]
    },
    {
     "name": "stdout",
     "output_type": "stream",
     "text": [
      "Epoch [7/25]\n",
      "Train Loss: 0.1784, Train Accuracy: 93.44%\n",
      "Validation Loss: 0.3303, Validation Accuracy: 90.00%\n",
      "Precision: 0.9055, Recall: 0.9000, F1 Score: 0.8994\n"
     ]
    },
    {
     "name": "stderr",
     "output_type": "stream",
     "text": [
      "Epoch 8/25: 100%|██████████| 20/20 [02:06<00:00,  6.32s/it]\n"
     ]
    },
    {
     "name": "stdout",
     "output_type": "stream",
     "text": [
      "Epoch [8/25]\n",
      "Train Loss: 0.1688, Train Accuracy: 93.91%\n",
      "Validation Loss: 0.8071, Validation Accuracy: 72.50%\n",
      "Precision: 0.8188, Recall: 0.7250, F1 Score: 0.7184\n"
     ]
    },
    {
     "name": "stderr",
     "output_type": "stream",
     "text": [
      "Epoch 9/25: 100%|██████████| 20/20 [01:53<00:00,  5.69s/it]\n",
      "c:\\Users\\hasmo\\miniconda3\\envs\\font\\lib\\site-packages\\sklearn\\metrics\\_classification.py:1531: UndefinedMetricWarning: Precision is ill-defined and being set to 0.0 in labels with no predicted samples. Use `zero_division` parameter to control this behavior.\n",
      "  _warn_prf(average, modifier, f\"{metric.capitalize()} is\", len(result))\n"
     ]
    },
    {
     "name": "stdout",
     "output_type": "stream",
     "text": [
      "Epoch [9/25]\n",
      "Train Loss: 0.2038, Train Accuracy: 93.91%\n",
      "Validation Loss: 2.8036, Validation Accuracy: 48.75%\n",
      "Precision: 0.4805, Recall: 0.4875, F1 Score: 0.3714\n"
     ]
    },
    {
     "name": "stderr",
     "output_type": "stream",
     "text": [
      "Epoch 10/25: 100%|██████████| 20/20 [02:09<00:00,  6.47s/it]\n"
     ]
    },
    {
     "name": "stdout",
     "output_type": "stream",
     "text": [
      "Epoch [10/25]\n",
      "Train Loss: 0.1323, Train Accuracy: 95.16%\n",
      "Validation Loss: 0.6623, Validation Accuracy: 80.00%\n",
      "Precision: 0.8475, Recall: 0.8000, F1 Score: 0.8037\n"
     ]
    },
    {
     "name": "stderr",
     "output_type": "stream",
     "text": [
      "Epoch 11/25: 100%|██████████| 20/20 [01:59<00:00,  5.97s/it]\n"
     ]
    },
    {
     "name": "stdout",
     "output_type": "stream",
     "text": [
      "Epoch [11/25]\n",
      "Train Loss: 0.1371, Train Accuracy: 95.00%\n",
      "Validation Loss: 0.2817, Validation Accuracy: 90.00%\n",
      "Precision: 0.9036, Recall: 0.9000, F1 Score: 0.9003\n"
     ]
    },
    {
     "name": "stderr",
     "output_type": "stream",
     "text": [
      "Epoch 12/25: 100%|██████████| 20/20 [02:03<00:00,  6.17s/it]\n",
      "c:\\Users\\hasmo\\miniconda3\\envs\\font\\lib\\site-packages\\sklearn\\metrics\\_classification.py:1531: UndefinedMetricWarning: Precision is ill-defined and being set to 0.0 in labels with no predicted samples. Use `zero_division` parameter to control this behavior.\n",
      "  _warn_prf(average, modifier, f\"{metric.capitalize()} is\", len(result))\n"
     ]
    },
    {
     "name": "stdout",
     "output_type": "stream",
     "text": [
      "Epoch [12/25]\n",
      "Train Loss: 0.0961, Train Accuracy: 95.78%\n",
      "Validation Loss: 2.9428, Validation Accuracy: 68.75%\n",
      "Precision: 0.5875, Recall: 0.6875, F1 Score: 0.6094\n",
      "Early stopping triggered at epoch 12\n"
     ]
    },
    {
     "name": "stderr",
     "output_type": "stream",
     "text": [
      "c:\\Users\\hasmo\\miniconda3\\envs\\font\\lib\\site-packages\\sklearn\\metrics\\_classification.py:1531: UndefinedMetricWarning: Precision is ill-defined and being set to 0.0 in labels with no predicted samples. Use `zero_division` parameter to control this behavior.\n",
      "  _warn_prf(average, modifier, f\"{metric.capitalize()} is\", len(result))\n"
     ]
    },
    {
     "name": "stdout",
     "output_type": "stream",
     "text": [
      "Test Accuracy: 63.75%\n",
      "Test Precision: 0.5374, Test Recall: 0.6375, Test F1 Score: 0.5590\n"
     ]
    },
    {
     "data": {
      "text/html": [
       "\n",
       "    <style>\n",
       "        .wandb-row {\n",
       "            display: flex;\n",
       "            flex-direction: row;\n",
       "            flex-wrap: wrap;\n",
       "            justify-content: flex-start;\n",
       "            width: 100%;\n",
       "        }\n",
       "        .wandb-col {\n",
       "            display: flex;\n",
       "            flex-direction: column;\n",
       "            flex-basis: 100%;\n",
       "            flex: 1;\n",
       "            padding: 10px;\n",
       "        }\n",
       "    </style>\n",
       "<div class=\"wandb-row\"><div class=\"wandb-col\"><h3>Run history:</h3><br/><table class=\"wandb\"><tr><td>test_accuracy</td><td>▁</td></tr><tr><td>test_f1</td><td>▁</td></tr><tr><td>test_precision</td><td>▁</td></tr><tr><td>test_recall</td><td>▁</td></tr><tr><td>train_accuracy</td><td>▁▄▅▅▆▇██████</td></tr><tr><td>train_loss</td><td>█▄▄▄▃▂▂▂▂▁▁▁</td></tr><tr><td>val_accuracy</td><td>▁▄▄▆▅▄█▆▃▇█▅</td></tr><tr><td>val_f1</td><td>▁▄▄▇▅▄█▆▂▇█▅</td></tr><tr><td>val_loss</td><td>▅▃▃▁▄▆▁▂█▂▁█</td></tr><tr><td>val_precision</td><td>▁▄▄▇▄▇█▇▃▇█▅</td></tr><tr><td>val_recall</td><td>▁▄▄▆▅▄█▆▃▇█▅</td></tr></table><br/></div><div class=\"wandb-col\"><h3>Run summary:</h3><br/><table class=\"wandb\"><tr><td>test_accuracy</td><td>63.75</td></tr><tr><td>test_f1</td><td>0.55898</td></tr><tr><td>test_precision</td><td>0.53738</td></tr><tr><td>test_recall</td><td>0.6375</td></tr><tr><td>train_accuracy</td><td>95.78125</td></tr><tr><td>train_loss</td><td>0.09607</td></tr><tr><td>val_accuracy</td><td>68.75</td></tr><tr><td>val_f1</td><td>0.60938</td></tr><tr><td>val_loss</td><td>2.94282</td></tr><tr><td>val_precision</td><td>0.5875</td></tr><tr><td>val_recall</td><td>0.6875</td></tr></table><br/></div></div>"
      ],
      "text/plain": [
       "<IPython.core.display.HTML object>"
      ]
     },
     "metadata": {},
     "output_type": "display_data"
    },
    {
     "data": {
      "text/html": [
       " View run <strong style=\"color:#cdcd00\">apricot-sound-1</strong> at: <a href='https://wandb.ai/hasmot23-daffodil-international-university/resnet-font-classification/runs/8ip7kpd0' target=\"_blank\">https://wandb.ai/hasmot23-daffodil-international-university/resnet-font-classification/runs/8ip7kpd0</a><br/> View project at: <a href='https://wandb.ai/hasmot23-daffodil-international-university/resnet-font-classification' target=\"_blank\">https://wandb.ai/hasmot23-daffodil-international-university/resnet-font-classification</a><br/>Synced 4 W&B file(s), 0 media file(s), 3 artifact file(s) and 2 other file(s)"
      ],
      "text/plain": [
       "<IPython.core.display.HTML object>"
      ]
     },
     "metadata": {},
     "output_type": "display_data"
    },
    {
     "data": {
      "text/html": [
       "Find logs at: <code>.\\wandb\\run-20241117_010856-8ip7kpd0\\logs</code>"
      ],
      "text/plain": [
       "<IPython.core.display.HTML object>"
      ]
     },
     "metadata": {},
     "output_type": "display_data"
    }
   ],
   "source": [
    "import wandb\n",
    "from sklearn.metrics import precision_score, recall_score, f1_score\n",
    "import torch\n",
    "import torch.nn as nn\n",
    "import torch.optim as optim\n",
    "from tqdm import tqdm\n",
    "from torch.utils.data import DataLoader, random_split\n",
    "from sklearn.metrics import accuracy_score, classification_report\n",
    "import matplotlib.pyplot as plt\n",
    "\n",
    "# Initialize a new wandb run\n",
    "wandb.init(project='font-classification')\n",
    "\n",
    "# Define the training loop with validation, early stopping, and saving the best model\n",
    "def train(model, train_loader, val_loader, test_loader, num_epochs=50, learning_rate=0.001, patience=5):\n",
    "    criterion = nn.CrossEntropyLoss()\n",
    "    optimizer = optim.Adam(model.parameters(), lr=learning_rate)\n",
    "\n",
    "    device = torch.device('cuda' if torch.cuda.is_available() else 'cpu')\n",
    "    model.to(device)\n",
    "\n",
    "    best_val_accuracy = 0.0  # To track the best validation accuracy\n",
    "    best_model_wts = None  # To store the best model weights\n",
    "    early_stopping_counter = 0  # To count how many epochs without improvement\n",
    "\n",
    "    # To store metrics for visualization\n",
    "    train_losses = []\n",
    "    val_losses = []\n",
    "    train_accuracies = []\n",
    "    val_accuracies = []\n",
    "    val_precisions = []\n",
    "    val_recalls = []\n",
    "    val_f1_scores = []\n",
    "\n",
    "    for epoch in range(num_epochs):\n",
    "        model.train()\n",
    "        running_loss = 0.0\n",
    "        correct_preds = 0\n",
    "        total_preds = 0\n",
    "\n",
    "        for images, labels in tqdm(train_loader, desc=f\"Epoch {epoch + 1}/{num_epochs}\"):\n",
    "            images, labels = images.to(device), labels.to(device)\n",
    "            optimizer.zero_grad()\n",
    "\n",
    "            outputs = model(images)\n",
    "            loss = criterion(outputs, labels)\n",
    "            loss.backward()\n",
    "            optimizer.step()\n",
    "\n",
    "            _, predicted = torch.max(outputs, 1)\n",
    "            correct_preds += (predicted == labels).sum().item()\n",
    "            total_preds += labels.size(0)\n",
    "\n",
    "            running_loss += loss.item()\n",
    "\n",
    "        train_accuracy = 100 * correct_preds / total_preds\n",
    "        avg_train_loss = running_loss / len(train_loader)\n",
    "\n",
    "        # Validation step\n",
    "        model.eval()\n",
    "        correct_preds = 0\n",
    "        total_preds = 0\n",
    "        val_loss = 0.0\n",
    "        all_preds = []\n",
    "        all_labels = []\n",
    "        with torch.no_grad():\n",
    "            for images, labels in val_loader:\n",
    "                images, labels = images.to(device), labels.to(device)\n",
    "                outputs = model(images)\n",
    "                loss = criterion(outputs, labels)\n",
    "                val_loss += loss.item()\n",
    "\n",
    "                _, predicted = torch.max(outputs, 1)\n",
    "                correct_preds += (predicted == labels).sum().item()\n",
    "                total_preds += labels.size(0)\n",
    "\n",
    "                all_preds.extend(predicted.cpu().numpy())\n",
    "                all_labels.extend(labels.cpu().numpy())\n",
    "\n",
    "        val_accuracy = 100 * correct_preds / total_preds\n",
    "        avg_val_loss = val_loss / len(val_loader)\n",
    "\n",
    "        # Calculate precision, recall, and F1 score\n",
    "        precision = precision_score(all_labels, all_preds, average='weighted')\n",
    "        recall = recall_score(all_labels, all_preds, average='weighted')\n",
    "        f1 = f1_score(all_labels, all_preds, average='weighted')\n",
    "\n",
    "        # Save the best model\n",
    "        if val_accuracy > best_val_accuracy:\n",
    "            best_val_accuracy = val_accuracy\n",
    "            best_model_wts = model.state_dict()\n",
    "            early_stopping_counter = 0  # Reset the counter if validation improves\n",
    "        else:\n",
    "            early_stopping_counter += 1\n",
    "\n",
    "        print(f\"Epoch [{epoch + 1}/{num_epochs}]\")\n",
    "        print(f\"Train Loss: {avg_train_loss:.4f}, Train Accuracy: {train_accuracy:.2f}%\")\n",
    "        print(f\"Validation Loss: {avg_val_loss:.4f}, Validation Accuracy: {val_accuracy:.2f}%\")\n",
    "        print(f\"Precision: {precision:.4f}, Recall: {recall:.4f}, F1 Score: {f1:.4f}\")\n",
    "\n",
    "        # Log metrics to wandb\n",
    "        wandb.log({\n",
    "            'train_loss': avg_train_loss,\n",
    "            'train_accuracy': train_accuracy,\n",
    "            'val_loss': avg_val_loss,\n",
    "            'val_accuracy': val_accuracy,\n",
    "            'val_precision': precision,\n",
    "            'val_recall': recall,\n",
    "            'val_f1': f1\n",
    "        })\n",
    "\n",
    "        # Append metrics for plotting later\n",
    "        train_losses.append(avg_train_loss)\n",
    "        val_losses.append(avg_val_loss)\n",
    "        train_accuracies.append(train_accuracy)\n",
    "        val_accuracies.append(val_accuracy)\n",
    "        val_precisions.append(precision)\n",
    "        val_recalls.append(recall)\n",
    "        val_f1_scores.append(f1)\n",
    "\n",
    "        # Early Stopping: Stop if no improvement after 'patience' epochs\n",
    "        if early_stopping_counter >= patience:\n",
    "            print(f\"Early stopping triggered at epoch {epoch + 1}\")\n",
    "            break\n",
    "\n",
    "    # Load the best model weights\n",
    "    model.load_state_dict(best_model_wts)\n",
    "    \n",
    "    # Save the best model weights to WandB as an artifact\n",
    "    model_filename = 'best_resnet_model.pth'\n",
    "    torch.save(best_model_wts, model_filename)\n",
    "    \n",
    "    # Log the model file to wandb\n",
    "    wandb.save(model_filename)\n",
    "\n",
    "    # Evaluate on the test set\n",
    "    model.eval()\n",
    "    correct_preds = 0\n",
    "    total_preds = 0\n",
    "    all_preds = []\n",
    "    all_labels = []\n",
    "    with torch.no_grad():\n",
    "        for images, labels in test_loader:\n",
    "            images, labels = images.to(device), labels.to(device)\n",
    "            outputs = model(images)\n",
    "            _, predicted = torch.max(outputs, 1)\n",
    "            correct_preds += (predicted == labels).sum().item()\n",
    "            total_preds += labels.size(0)\n",
    "\n",
    "            all_preds.extend(predicted.cpu().numpy())\n",
    "            all_labels.extend(labels.cpu().numpy())\n",
    "\n",
    "    test_accuracy = 100 * correct_preds / total_preds\n",
    "    test_precision = precision_score(all_labels, all_preds, average='weighted')\n",
    "    test_recall = recall_score(all_labels, all_preds, average='weighted')\n",
    "    test_f1 = f1_score(all_labels, all_preds, average='weighted')\n",
    "\n",
    "    print(f\"Test Accuracy: {test_accuracy:.2f}%\")\n",
    "    print(f\"Test Precision: {test_precision:.4f}, Test Recall: {test_recall:.4f}, Test F1 Score: {test_f1:.4f}\")\n",
    "\n",
    "    # Log test metrics to wandb\n",
    "    wandb.log({\n",
    "        'test_accuracy': test_accuracy,\n",
    "        'test_precision': test_precision,\n",
    "        'test_recall': test_recall,\n",
    "        'test_f1': test_f1\n",
    "    })\n",
    "\n",
    "    # Save the final model weights to WandB\n",
    "    final_model_filename = 'final_resnet_model.pth'\n",
    "    torch.save(model.state_dict(), final_model_filename)\n",
    "    wandb.save(final_model_filename)\n",
    "\n",
    "    # Close the wandb run\n",
    "    wandb.finish()\n",
    "\n",
    "# Instantiate the model\n",
    "model = ResNet(num_classes=4)\n",
    "\n",
    "# Train the model\n",
    "train(model, train_loader, val_loader, test_loader, num_epochs=25, learning_rate=0.001, patience=5)\n"
   ]
  },
  {
   "cell_type": "code",
   "execution_count": 16,
   "metadata": {},
   "outputs": [
    {
     "name": "stderr",
     "output_type": "stream",
     "text": [
      "wandb: Using wandb-core as the SDK backend.  Please refer to https://wandb.me/wandb-core for more information.\n",
      "wandb: Currently logged in as: hasmot23 (hasmot23-organization). Use `wandb login --relogin` to force relogin\n"
     ]
    },
    {
     "data": {
      "text/html": [
       "Tracking run with wandb version 0.18.7"
      ],
      "text/plain": [
       "<IPython.core.display.HTML object>"
      ]
     },
     "metadata": {},
     "output_type": "display_data"
    },
    {
     "data": {
      "text/html": [
       "Run data is saved locally in <code>c:\\Users\\hasmo\\Documents\\FontClassifier\\font-classifier\\wandb\\run-20241117_205919-hkx16so9</code>"
      ],
      "text/plain": [
       "<IPython.core.display.HTML object>"
      ]
     },
     "metadata": {},
     "output_type": "display_data"
    },
    {
     "data": {
      "text/html": [
       "Syncing run <strong><a href='https://wandb.ai/hasmot23-organization/font-classification/runs/hkx16so9' target=\"_blank\">still-leaf-1</a></strong> to <a href='https://wandb.ai/hasmot23-organization/font-classification' target=\"_blank\">Weights & Biases</a> (<a href='https://wandb.me/developer-guide' target=\"_blank\">docs</a>)<br/>"
      ],
      "text/plain": [
       "<IPython.core.display.HTML object>"
      ]
     },
     "metadata": {},
     "output_type": "display_data"
    },
    {
     "data": {
      "text/html": [
       " View project at <a href='https://wandb.ai/hasmot23-organization/font-classification' target=\"_blank\">https://wandb.ai/hasmot23-organization/font-classification</a>"
      ],
      "text/plain": [
       "<IPython.core.display.HTML object>"
      ]
     },
     "metadata": {},
     "output_type": "display_data"
    },
    {
     "data": {
      "text/html": [
       " View run at <a href='https://wandb.ai/hasmot23-organization/font-classification/runs/hkx16so9' target=\"_blank\">https://wandb.ai/hasmot23-organization/font-classification/runs/hkx16so9</a>"
      ],
      "text/plain": [
       "<IPython.core.display.HTML object>"
      ]
     },
     "metadata": {},
     "output_type": "display_data"
    },
    {
     "name": "stderr",
     "output_type": "stream",
     "text": [
      "Epoch 1/25: 100%|██████████| 20/20 [02:35<00:00,  7.79s/it]\n",
      "c:\\Users\\hasmo\\miniconda3\\envs\\font\\lib\\site-packages\\sklearn\\metrics\\_classification.py:1531: UndefinedMetricWarning: Precision is ill-defined and being set to 0.0 in labels with no predicted samples. Use `zero_division` parameter to control this behavior.\n",
      "  _warn_prf(average, modifier, f\"{metric.capitalize()} is\", len(result))\n"
     ]
    },
    {
     "name": "stdout",
     "output_type": "stream",
     "text": [
      "Epoch [1/25]\n",
      "Train Loss: 1.0315, Train Accuracy: 55.62%\n",
      "Validation Loss: 4.2284, Validation Accuracy: 27.50%\n",
      "Precision: 0.0756, Recall: 0.2750, F1 Score: 0.1186\n"
     ]
    },
    {
     "name": "stderr",
     "output_type": "stream",
     "text": [
      "Epoch 2/25: 100%|██████████| 20/20 [02:54<00:00,  8.71s/it]\n"
     ]
    },
    {
     "name": "stdout",
     "output_type": "stream",
     "text": [
      "Epoch [2/25]\n",
      "Train Loss: 0.5856, Train Accuracy: 70.94%\n",
      "Validation Loss: 0.6730, Validation Accuracy: 61.25%\n",
      "Precision: 0.5391, Recall: 0.6125, F1 Score: 0.5462\n"
     ]
    },
    {
     "name": "stderr",
     "output_type": "stream",
     "text": [
      "Epoch 3/25: 100%|██████████| 20/20 [03:32<00:00, 10.60s/it]\n"
     ]
    },
    {
     "name": "stdout",
     "output_type": "stream",
     "text": [
      "Epoch [3/25]\n",
      "Train Loss: 0.5012, Train Accuracy: 76.25%\n",
      "Validation Loss: 0.8629, Validation Accuracy: 68.75%\n",
      "Precision: 0.6752, Recall: 0.6875, F1 Score: 0.6720\n"
     ]
    },
    {
     "name": "stderr",
     "output_type": "stream",
     "text": [
      "Epoch 4/25: 100%|██████████| 20/20 [02:43<00:00,  8.15s/it]\n"
     ]
    },
    {
     "name": "stdout",
     "output_type": "stream",
     "text": [
      "Epoch [4/25]\n",
      "Train Loss: 0.4231, Train Accuracy: 84.06%\n",
      "Validation Loss: 0.9806, Validation Accuracy: 61.25%\n",
      "Precision: 0.6626, Recall: 0.6125, F1 Score: 0.5710\n"
     ]
    },
    {
     "name": "stderr",
     "output_type": "stream",
     "text": [
      "Epoch 5/25: 100%|██████████| 20/20 [02:36<00:00,  7.82s/it]\n"
     ]
    },
    {
     "name": "stdout",
     "output_type": "stream",
     "text": [
      "Epoch [5/25]\n",
      "Train Loss: 0.3128, Train Accuracy: 89.22%\n",
      "Validation Loss: 5.1906, Validation Accuracy: 36.25%\n",
      "Precision: 0.5625, Recall: 0.3625, F1 Score: 0.2889\n"
     ]
    },
    {
     "name": "stderr",
     "output_type": "stream",
     "text": [
      "Epoch 6/25: 100%|██████████| 20/20 [02:50<00:00,  8.54s/it]\n"
     ]
    },
    {
     "name": "stdout",
     "output_type": "stream",
     "text": [
      "Epoch [6/25]\n",
      "Train Loss: 0.2335, Train Accuracy: 92.66%\n",
      "Validation Loss: 0.7500, Validation Accuracy: 77.50%\n",
      "Precision: 0.8125, Recall: 0.7750, F1 Score: 0.7649\n"
     ]
    },
    {
     "name": "stderr",
     "output_type": "stream",
     "text": [
      "Epoch 7/25: 100%|██████████| 20/20 [02:46<00:00,  8.33s/it]\n"
     ]
    },
    {
     "name": "stdout",
     "output_type": "stream",
     "text": [
      "Epoch [7/25]\n",
      "Train Loss: 0.1609, Train Accuracy: 94.38%\n",
      "Validation Loss: 2.9737, Validation Accuracy: 50.00%\n",
      "Precision: 0.7567, Recall: 0.5000, F1 Score: 0.3985\n"
     ]
    },
    {
     "name": "stderr",
     "output_type": "stream",
     "text": [
      "Epoch 8/25: 100%|██████████| 20/20 [02:40<00:00,  8.01s/it]\n"
     ]
    },
    {
     "name": "stdout",
     "output_type": "stream",
     "text": [
      "Epoch [8/25]\n",
      "Train Loss: 0.2654, Train Accuracy: 88.75%\n",
      "Validation Loss: 1.4421, Validation Accuracy: 56.25%\n",
      "Precision: 0.7086, Recall: 0.5625, F1 Score: 0.4809\n"
     ]
    },
    {
     "name": "stderr",
     "output_type": "stream",
     "text": [
      "Epoch 9/25: 100%|██████████| 20/20 [02:21<00:00,  7.06s/it]\n"
     ]
    },
    {
     "name": "stdout",
     "output_type": "stream",
     "text": [
      "Epoch [9/25]\n",
      "Train Loss: 0.2894, Train Accuracy: 90.16%\n",
      "Validation Loss: 0.7382, Validation Accuracy: 81.25%\n",
      "Precision: 0.8783, Recall: 0.8125, F1 Score: 0.7932\n"
     ]
    },
    {
     "name": "stderr",
     "output_type": "stream",
     "text": [
      "Epoch 10/25: 100%|██████████| 20/20 [02:12<00:00,  6.61s/it]\n"
     ]
    },
    {
     "name": "stdout",
     "output_type": "stream",
     "text": [
      "Epoch [10/25]\n",
      "Train Loss: 0.2475, Train Accuracy: 91.25%\n",
      "Validation Loss: 0.8796, Validation Accuracy: 76.25%\n",
      "Precision: 0.7668, Recall: 0.7625, F1 Score: 0.7442\n"
     ]
    },
    {
     "name": "stderr",
     "output_type": "stream",
     "text": [
      "Epoch 11/25: 100%|██████████| 20/20 [02:12<00:00,  6.62s/it]\n"
     ]
    },
    {
     "name": "stdout",
     "output_type": "stream",
     "text": [
      "Epoch [11/25]\n",
      "Train Loss: 0.1481, Train Accuracy: 94.69%\n",
      "Validation Loss: 1.0004, Validation Accuracy: 75.00%\n",
      "Precision: 0.8348, Recall: 0.7500, F1 Score: 0.7227\n"
     ]
    },
    {
     "name": "stderr",
     "output_type": "stream",
     "text": [
      "Epoch 12/25: 100%|██████████| 20/20 [02:08<00:00,  6.45s/it]\n"
     ]
    },
    {
     "name": "stdout",
     "output_type": "stream",
     "text": [
      "Epoch [12/25]\n",
      "Train Loss: 0.1091, Train Accuracy: 95.47%\n",
      "Validation Loss: 0.4164, Validation Accuracy: 83.75%\n",
      "Precision: 0.8696, Recall: 0.8375, F1 Score: 0.8399\n"
     ]
    },
    {
     "name": "stderr",
     "output_type": "stream",
     "text": [
      "Epoch 13/25: 100%|██████████| 20/20 [02:10<00:00,  6.52s/it]\n"
     ]
    },
    {
     "name": "stdout",
     "output_type": "stream",
     "text": [
      "Epoch [13/25]\n",
      "Train Loss: 0.0938, Train Accuracy: 96.56%\n",
      "Validation Loss: 0.2585, Validation Accuracy: 91.25%\n",
      "Precision: 0.9270, Recall: 0.9125, F1 Score: 0.9082\n"
     ]
    },
    {
     "name": "stderr",
     "output_type": "stream",
     "text": [
      "Epoch 14/25: 100%|██████████| 20/20 [02:08<00:00,  6.41s/it]\n"
     ]
    },
    {
     "name": "stdout",
     "output_type": "stream",
     "text": [
      "Epoch [14/25]\n",
      "Train Loss: 0.1138, Train Accuracy: 96.25%\n",
      "Validation Loss: 1.1165, Validation Accuracy: 81.25%\n",
      "Precision: 0.8656, Recall: 0.8125, F1 Score: 0.8069\n"
     ]
    },
    {
     "name": "stderr",
     "output_type": "stream",
     "text": [
      "Epoch 15/25: 100%|██████████| 20/20 [02:08<00:00,  6.40s/it]\n"
     ]
    },
    {
     "name": "stdout",
     "output_type": "stream",
     "text": [
      "Epoch [15/25]\n",
      "Train Loss: 0.0777, Train Accuracy: 97.19%\n",
      "Validation Loss: 0.8952, Validation Accuracy: 75.00%\n",
      "Precision: 0.8281, Recall: 0.7500, F1 Score: 0.7211\n"
     ]
    },
    {
     "name": "stderr",
     "output_type": "stream",
     "text": [
      "Epoch 16/25: 100%|██████████| 20/20 [02:08<00:00,  6.45s/it]\n"
     ]
    },
    {
     "name": "stdout",
     "output_type": "stream",
     "text": [
      "Epoch [16/25]\n",
      "Train Loss: 0.0616, Train Accuracy: 97.97%\n",
      "Validation Loss: 0.3426, Validation Accuracy: 92.50%\n",
      "Precision: 0.9249, Recall: 0.9250, F1 Score: 0.9241\n"
     ]
    },
    {
     "name": "stderr",
     "output_type": "stream",
     "text": [
      "Epoch 17/25: 100%|██████████| 20/20 [02:09<00:00,  6.46s/it]\n"
     ]
    },
    {
     "name": "stdout",
     "output_type": "stream",
     "text": [
      "Epoch [17/25]\n",
      "Train Loss: 0.1577, Train Accuracy: 94.38%\n",
      "Validation Loss: 1.7202, Validation Accuracy: 62.50%\n",
      "Precision: 0.7178, Recall: 0.6250, F1 Score: 0.6156\n"
     ]
    },
    {
     "name": "stderr",
     "output_type": "stream",
     "text": [
      "Epoch 18/25: 100%|██████████| 20/20 [02:08<00:00,  6.43s/it]\n"
     ]
    },
    {
     "name": "stdout",
     "output_type": "stream",
     "text": [
      "Epoch [18/25]\n",
      "Train Loss: 0.0557, Train Accuracy: 98.28%\n",
      "Validation Loss: 0.4122, Validation Accuracy: 85.00%\n",
      "Precision: 0.8583, Recall: 0.8500, F1 Score: 0.8487\n"
     ]
    },
    {
     "name": "stderr",
     "output_type": "stream",
     "text": [
      "Epoch 19/25: 100%|██████████| 20/20 [02:10<00:00,  6.51s/it]\n"
     ]
    },
    {
     "name": "stdout",
     "output_type": "stream",
     "text": [
      "Epoch [19/25]\n",
      "Train Loss: 0.0638, Train Accuracy: 98.12%\n",
      "Validation Loss: 0.1927, Validation Accuracy: 91.25%\n",
      "Precision: 0.9135, Recall: 0.9125, F1 Score: 0.9111\n"
     ]
    },
    {
     "name": "stderr",
     "output_type": "stream",
     "text": [
      "Epoch 20/25: 100%|██████████| 20/20 [02:10<00:00,  6.51s/it]\n"
     ]
    },
    {
     "name": "stdout",
     "output_type": "stream",
     "text": [
      "Epoch [20/25]\n",
      "Train Loss: 0.0531, Train Accuracy: 97.50%\n",
      "Validation Loss: 0.9685, Validation Accuracy: 81.25%\n",
      "Precision: 0.8457, Recall: 0.8125, F1 Score: 0.7962\n"
     ]
    },
    {
     "name": "stderr",
     "output_type": "stream",
     "text": [
      "Epoch 21/25: 100%|██████████| 20/20 [02:10<00:00,  6.51s/it]\n",
      "c:\\Users\\hasmo\\miniconda3\\envs\\font\\lib\\site-packages\\sklearn\\metrics\\_classification.py:1531: UndefinedMetricWarning: Precision is ill-defined and being set to 0.0 in labels with no predicted samples. Use `zero_division` parameter to control this behavior.\n",
      "  _warn_prf(average, modifier, f\"{metric.capitalize()} is\", len(result))\n"
     ]
    },
    {
     "name": "stdout",
     "output_type": "stream",
     "text": [
      "Epoch [21/25]\n",
      "Train Loss: 0.1081, Train Accuracy: 96.41%\n",
      "Validation Loss: 5.1731, Validation Accuracy: 40.00%\n",
      "Precision: 0.2212, Recall: 0.4000, F1 Score: 0.2738\n",
      "Early stopping triggered at epoch 21\n"
     ]
    },
    {
     "name": "stderr",
     "output_type": "stream",
     "text": [
      "c:\\Users\\hasmo\\miniconda3\\envs\\font\\lib\\site-packages\\sklearn\\metrics\\_classification.py:1531: UndefinedMetricWarning: Precision is ill-defined and being set to 0.0 in labels with no predicted samples. Use `zero_division` parameter to control this behavior.\n",
      "  _warn_prf(average, modifier, f\"{metric.capitalize()} is\", len(result))\n"
     ]
    },
    {
     "name": "stdout",
     "output_type": "stream",
     "text": [
      "Test Accuracy: 45.00%\n",
      "Test Precision: 0.4946, Test Recall: 0.4500, Test F1 Score: 0.3349\n"
     ]
    },
    {
     "data": {
      "image/png": "[encoded data removed]",
      "text/plain": [
       "<Figure size 1200x500 with 2 Axes>"
      ]
     },
     "metadata": {},
     "output_type": "display_data"
    },
    {
     "data": {
      "text/html": [
       "\n",
       "    <style>\n",
       "        .wandb-row {\n",
       "            display: flex;\n",
       "            flex-direction: row;\n",
       "            flex-wrap: wrap;\n",
       "            justify-content: flex-start;\n",
       "            width: 100%;\n",
       "        }\n",
       "        .wandb-col {\n",
       "            display: flex;\n",
       "            flex-direction: column;\n",
       "            flex-basis: 100%;\n",
       "            flex: 1;\n",
       "            padding: 10px;\n",
       "        }\n",
       "    </style>\n",
       "<div class=\"wandb-row\"><div class=\"wandb-col\"><h3>Run history:</h3><br/><table class=\"wandb\"><tr><td>test_accuracy</td><td>▁</td></tr><tr><td>test_f1</td><td>▁</td></tr><tr><td>test_precision</td><td>▁</td></tr><tr><td>test_recall</td><td>▁</td></tr><tr><td>train_accuracy</td><td>▁▄▄▆▇▇▇▆▇▇▇█████▇████</td></tr><tr><td>train_loss</td><td>█▅▄▄▃▂▂▃▃▂▂▁▁▁▁▁▂▁▁▁▁</td></tr><tr><td>val_accuracy</td><td>▁▅▅▅▂▆▃▄▇▆▆▇█▇▆█▅▇█▇▂</td></tr><tr><td>val_f1</td><td>▁▅▆▅▂▇▃▄▇▆▆▇█▇▆█▅▇█▇▂</td></tr><tr><td>val_loss</td><td>▇▂▂▂█▂▅▃▂▂▂▁▁▂▂▁▃▁▁▂█</td></tr><tr><td>val_precision</td><td>▁▅▆▆▅▇▇▆█▇▇██▇▇█▆▇█▇▂</td></tr><tr><td>val_recall</td><td>▁▅▅▅▂▆▃▄▇▆▆▇█▇▆█▅▇█▇▂</td></tr></table><br/></div><div class=\"wandb-col\"><h3>Run summary:</h3><br/><table class=\"wandb\"><tr><td>test_accuracy</td><td>45</td></tr><tr><td>test_f1</td><td>0.33486</td></tr><tr><td>test_precision</td><td>0.49465</td></tr><tr><td>test_recall</td><td>0.45</td></tr><tr><td>train_accuracy</td><td>96.40625</td></tr><tr><td>train_loss</td><td>0.10807</td></tr><tr><td>val_accuracy</td><td>40</td></tr><tr><td>val_f1</td><td>0.27379</td></tr><tr><td>val_loss</td><td>5.17312</td></tr><tr><td>val_precision</td><td>0.22123</td></tr><tr><td>val_recall</td><td>0.4</td></tr></table><br/></div></div>"
      ],
      "text/plain": [
       "<IPython.core.display.HTML object>"
      ]
     },
     "metadata": {},
     "output_type": "display_data"
    },
    {
     "data": {
      "text/html": [
       " View run <strong style=\"color:#cdcd00\">still-leaf-1</strong> at: <a href='https://wandb.ai/hasmot23-organization/font-classification/runs/hkx16so9' target=\"_blank\">https://wandb.ai/hasmot23-organization/font-classification/runs/hkx16so9</a><br/> View project at: <a href='https://wandb.ai/hasmot23-organization/font-classification' target=\"_blank\">https://wandb.ai/hasmot23-organization/font-classification</a><br/>Synced 4 W&B file(s), 0 media file(s), 3 artifact file(s) and 2 other file(s)"
      ],
      "text/plain": [
       "<IPython.core.display.HTML object>"
      ]
     },
     "metadata": {},
     "output_type": "display_data"
    },
    {
     "data": {
      "text/html": [
       "Find logs at: <code>.\\wandb\\run-20241117_205919-hkx16so9\\logs</code>"
      ],
      "text/plain": [
       "<IPython.core.display.HTML object>"
      ]
     },
     "metadata": {},
     "output_type": "display_data"
    }
   ],
   "source": [
    "import wandb\n",
    "from sklearn.metrics import precision_score, recall_score, f1_score\n",
    "import torch\n",
    "import torch.nn as nn\n",
    "import torch.optim as optim\n",
    "from tqdm import tqdm\n",
    "from torch.utils.data import DataLoader, random_split\n",
    "from sklearn.metrics import accuracy_score, classification_report\n",
    "import matplotlib.pyplot as plt\n",
    "\n",
    "# Initialize a new wandb run\n",
    "wandb.init(project='font-classification')\n",
    "\n",
    "# Log hyperparameters\n",
    "wandb.config.learning_rate = 0.001\n",
    "wandb.config.batch_size = 32\n",
    "wandb.config.num_epochs = 50\n",
    "wandb.config.patience = 5\n",
    "\n",
    "# Define the training loop with validation, early stopping, and saving the best model\n",
    "def train(model, train_loader, val_loader, test_loader, num_epochs=50, learning_rate=0.001, patience=5):\n",
    "    criterion = nn.CrossEntropyLoss()\n",
    "    optimizer = optim.Adam(model.parameters(), lr=learning_rate)\n",
    "\n",
    "    device = torch.device('cuda' if torch.cuda.is_available() else 'cpu')\n",
    "    model.to(device)\n",
    "\n",
    "    best_val_accuracy = 0.0  # To track the best validation accuracy\n",
    "    best_model_wts = None  # To store the best model weights\n",
    "    early_stopping_counter = 0  # To count how many epochs without improvement\n",
    "\n",
    "    # To store metrics for visualization\n",
    "    train_losses = []\n",
    "    val_losses = []\n",
    "    train_accuracies = []\n",
    "    val_accuracies = []\n",
    "    val_precisions = []\n",
    "    val_recalls = []\n",
    "    val_f1_scores = []\n",
    "\n",
    "    for epoch in range(num_epochs):\n",
    "        model.train()\n",
    "        running_loss = 0.0\n",
    "        correct_preds = 0\n",
    "        total_preds = 0\n",
    "\n",
    "        for images, labels in tqdm(train_loader, desc=f\"Epoch {epoch + 1}/{num_epochs}\"):\n",
    "            images, labels = images.to(device), labels.to(device)\n",
    "            optimizer.zero_grad()\n",
    "\n",
    "            outputs = model(images)\n",
    "            loss = criterion(outputs, labels)\n",
    "            loss.backward()\n",
    "            optimizer.step()\n",
    "\n",
    "            _, predicted = torch.max(outputs, 1)\n",
    "            correct_preds += (predicted == labels).sum().item()\n",
    "            total_preds += labels.size(0)\n",
    "\n",
    "            running_loss += loss.item()\n",
    "\n",
    "        train_accuracy = 100 * correct_preds / total_preds\n",
    "        avg_train_loss = running_loss / len(train_loader)\n",
    "\n",
    "        # Validation step\n",
    "        model.eval()\n",
    "        correct_preds = 0\n",
    "        total_preds = 0\n",
    "        val_loss = 0.0\n",
    "        all_preds = []\n",
    "        all_labels = []\n",
    "        with torch.no_grad():\n",
    "            for images, labels in val_loader:\n",
    "                images, labels = images.to(device), labels.to(device)\n",
    "                outputs = model(images)\n",
    "                loss = criterion(outputs, labels)\n",
    "                val_loss += loss.item()\n",
    "\n",
    "                _, predicted = torch.max(outputs, 1)\n",
    "                correct_preds += (predicted == labels).sum().item()\n",
    "                total_preds += labels.size(0)\n",
    "\n",
    "                all_preds.extend(predicted.cpu().numpy())\n",
    "                all_labels.extend(labels.cpu().numpy())\n",
    "\n",
    "        val_accuracy = 100 * correct_preds / total_preds\n",
    "        avg_val_loss = val_loss / len(val_loader)\n",
    "\n",
    "        # Calculate precision, recall, and F1 score\n",
    "        precision = precision_score(all_labels, all_preds, average='weighted')\n",
    "        recall = recall_score(all_labels, all_preds, average='weighted')\n",
    "        f1 = f1_score(all_labels, all_preds, average='weighted')\n",
    "\n",
    "        # Save the best model\n",
    "        if val_accuracy > best_val_accuracy:\n",
    "            best_val_accuracy = val_accuracy\n",
    "            best_model_wts = model.state_dict()\n",
    "            early_stopping_counter = 0  # Reset the counter if validation improves\n",
    "        else:\n",
    "            early_stopping_counter += 1\n",
    "\n",
    "        print(f\"Epoch [{epoch + 1}/{num_epochs}]\")\n",
    "        print(f\"Train Loss: {avg_train_loss:.4f}, Train Accuracy: {train_accuracy:.2f}%\")\n",
    "        print(f\"Validation Loss: {avg_val_loss:.4f}, Validation Accuracy: {val_accuracy:.2f}%\")\n",
    "        print(f\"Precision: {precision:.4f}, Recall: {recall:.4f}, F1 Score: {f1:.4f}\")\n",
    "\n",
    "        # Log metrics to wandb\n",
    "        wandb.log({\n",
    "            'train_loss': avg_train_loss,\n",
    "            'train_accuracy': train_accuracy,\n",
    "            'val_loss': avg_val_loss,\n",
    "            'val_accuracy': val_accuracy,\n",
    "            'val_precision': precision,\n",
    "            'val_recall': recall,\n",
    "            'val_f1': f1\n",
    "        })\n",
    "\n",
    "        # Append metrics for plotting later\n",
    "        train_losses.append(avg_train_loss)\n",
    "        val_losses.append(avg_val_loss)\n",
    "        train_accuracies.append(train_accuracy)\n",
    "        val_accuracies.append(val_accuracy)\n",
    "        val_precisions.append(precision)\n",
    "        val_recalls.append(recall)\n",
    "        val_f1_scores.append(f1)\n",
    "\n",
    "        # Early Stopping: Stop if no improvement after 'patience' epochs\n",
    "        if early_stopping_counter >= patience:\n",
    "            print(f\"Early stopping triggered at epoch {epoch + 1}\")\n",
    "            break\n",
    "\n",
    "    # Load the best model weights\n",
    "    model.load_state_dict(best_model_wts)\n",
    "    \n",
    "    # Save the best model weights to WandB as an artifact\n",
    "    model_filename = 'best_resnet_model.pth'\n",
    "    torch.save(best_model_wts, model_filename)\n",
    "    \n",
    "    # Log the model file to wandb\n",
    "    wandb.save(model_filename)\n",
    "\n",
    "    # Evaluate on the test set\n",
    "    model.eval()\n",
    "    correct_preds = 0\n",
    "    total_preds = 0\n",
    "    all_preds = []\n",
    "    all_labels = []\n",
    "    with torch.no_grad():\n",
    "        for images, labels in test_loader:\n",
    "            images, labels = images.to(device), labels.to(device)\n",
    "            outputs = model(images)\n",
    "            _, predicted = torch.max(outputs, 1)\n",
    "            correct_preds += (predicted == labels).sum().item()\n",
    "            total_preds += labels.size(0)\n",
    "\n",
    "            all_preds.extend(predicted.cpu().numpy())\n",
    "            all_labels.extend(labels.cpu().numpy())\n",
    "\n",
    "    test_accuracy = 100 * correct_preds / total_preds\n",
    "    test_precision = precision_score(all_labels, all_preds, average='weighted')\n",
    "    test_recall = recall_score(all_labels, all_preds, average='weighted')\n",
    "    test_f1 = f1_score(all_labels, all_preds, average='weighted')\n",
    "\n",
    "    print(f\"Test Accuracy: {test_accuracy:.2f}%\")\n",
    "    print(f\"Test Precision: {test_precision:.4f}, Test Recall: {test_recall:.4f}, Test F1 Score: {test_f1:.4f}\")\n",
    "\n",
    "    # Log test metrics to wandb\n",
    "    wandb.log({\n",
    "        'test_accuracy': test_accuracy,\n",
    "        'test_precision': test_precision,\n",
    "        'test_recall': test_recall,\n",
    "        'test_f1': test_f1\n",
    "    })\n",
    "\n",
    "    # Save the final model weights to WandB\n",
    "    final_model_filename = 'final_resnet_model.pth'\n",
    "    torch.save(model.state_dict(), final_model_filename)\n",
    "    wandb.save(final_model_filename)\n",
    "\n",
    "    # Visualization: Plot loss and accuracy curves\n",
    "    plt.figure(figsize=(12, 5))\n",
    "\n",
    "    # Plot Loss\n",
    "    plt.subplot(1, 2, 1)\n",
    "    plt.plot(range(len(train_losses)), train_losses, label='Train Loss')\n",
    "    plt.plot(range(len(val_losses)), val_losses, label='Validation Loss')\n",
    "    plt.xlabel('Epoch')\n",
    "    plt.ylabel('Loss')\n",
    "    plt.legend()\n",
    "\n",
    "    # Plot Accuracy\n",
    "    plt.subplot(1, 2, 2)\n",
    "    plt.plot(range(len(train_accuracies)), train_accuracies, label='Train Accuracy')\n",
    "    plt.plot(range(len(val_accuracies)), val_accuracies, label='Validation Accuracy')\n",
    "    plt.xlabel('Epoch')\n",
    "    plt.ylabel('Accuracy (%)')\n",
    "    plt.legend()\n",
    "\n",
    "    # Display plots\n",
    "    plt.tight_layout()\n",
    "    plt.show()\n",
    "\n",
    "    # Close the wandb run\n",
    "    wandb.finish()\n",
    "\n",
    "# Instantiate the model\n",
    "model = ResNet(num_classes=4)\n",
    "\n",
    "# Train the model\n",
    "train(model, train_loader, val_loader, test_loader, num_epochs=25, learning_rate=0.001, patience=5)\n"
   ]
  },
  {
   "cell_type": "code",
   "execution_count": 15,
   "metadata": {},
   "outputs": [
    {
     "data": {
      "text/plain": [
       "['AbyssinicaSIL-Regular',\n",
       " 'AdventPro-Italic[wdth,wght]',\n",
       " 'AdventPro[wdth,wght]',\n",
       " 'BalsamiqSans-Italic']"
      ]
     },
     "execution_count": 15,
     "metadata": {},
     "output_type": "execute_result"
    }
   ],
   "source": [
    "train_dataset.classes"
   ]
  },
  {
   "cell_type": "markdown",
   "metadata": {},
   "source": [
    "# Inference Pipeline"
   ]
  },
  {
   "cell_type": "code",
   "execution_count": 30,
   "metadata": {},
   "outputs": [
    {
     "name": "stdout",
     "output_type": "stream",
     "text": [
      "Predicted label: BalsamiqSans-Italic\n"
     ]
    },
    {
     "name": "stderr",
     "output_type": "stream",
     "text": [
      "C:\\Users\\hasmo\\AppData\\Local\\Temp\\ipykernel_3036\\2715737478.py:10: FutureWarning: You are using `torch.load` with `weights_only=False` (the current default value), which uses the default pickle module implicitly. It is possible to construct malicious pickle data which will execute arbitrary code during unpickling (See https://github.com/pytorch/pytorch/blob/main/SECURITY.md#untrusted-models for more details). In a future release, the default value for `weights_only` will be flipped to `True`. This limits the functions that could be executed during unpickling. Arbitrary objects will no longer be allowed to be loaded via this mode unless they are explicitly allowlisted by the user via `torch.serialization.add_safe_globals`. We recommend you start setting `weights_only=True` for any use case where you don't have full control of the loaded file. Please open an issue on GitHub for any issues related to this experimental feature.\n",
      "  model.load_state_dict(torch.load(filename))\n"
     ]
    }
   ],
   "source": [
    "import torch\n",
    "from torchvision import transforms\n",
    "from PIL import Image\n",
    "\n",
    "# class labels\n",
    "class_names = ['AbyssinicaSIL-Regular', 'AdventPro-Italic[wdth,wght]', 'AdventPro[wdth,wght]', 'BalsamiqSans-Italic']\n",
    "\n",
    "# Load the saved model\n",
    "def load_model(model, filename='resnet_trained.pth'):\n",
    "    model.load_state_dict(torch.load(filename))\n",
    "    model.eval()  # Set the model to evaluation mode\n",
    "    return model\n",
    "\n",
    "# Preprocess the image to match input size and transformations used during training\n",
    "def preprocess_image(img):\n",
    "    img = binarize_image(img)\n",
    "    img, _ = correct_skew(img)\n",
    "    img = select_text_area(img)\n",
    "    # Ensure the output is a PIL Image\n",
    "    if isinstance(img, np.ndarray):\n",
    "        img = Image.fromarray(img)\n",
    "    return img\n",
    "\n",
    "preprocess = transforms.Compose([\n",
    "        transforms.Resize((64, 256)),  # Ensure image size matches input size (64x256)\n",
    "        transforms.ToTensor()\n",
    "    ])\n",
    "\n",
    "# Inference function\n",
    "def predict(image_path, model, class_names):\n",
    "    img = Image.open(image_path)\n",
    "    image = preprocess_image(img)\n",
    "    image = preprocess(image)  # Apply preprocessing transformations\n",
    "    image = image.unsqueeze(0)  # Add batch dimension (1, C, H, W)\n",
    "\n",
    "    # Make the prediction\n",
    "    with torch.no_grad():  # No need to track gradients during inference\n",
    "        output = model(image)\n",
    "    \n",
    "    # Get the predicted class label (index)\n",
    "    _, predicted_class = torch.max(output, 1)\n",
    "    \n",
    "    # Get the class name\n",
    "    predicted_label = class_names[predicted_class.item()]\n",
    "    \n",
    "    print(f'Predicted label: {predicted_label}')\n",
    "    return predicted_label\n",
    "\n",
    "# Load the model\n",
    "model = ResNet(num_classes=4)\n",
    "model = load_model(model, filename='best_resnet_model.pth')\n",
    "\n",
    "# Predict on a single image\n",
    "image_path = 'textImg.png'\n",
    "predicted_label = predict(image_path, model, class_names)\n"
   ]
  }
 ],
 "metadata": {
  "kernelspec": {
   "display_name": "font",
   "language": "python",
   "name": "python3"
  },
  "language_info": {
   "codemirror_mode": {
    "name": "ipython",
    "version": 3
   },
   "file_extension": ".py",
   "mimetype": "text/x-python",
   "name": "python",
   "nbconvert_exporter": "python",
   "pygments_lexer": "ipython3",
   "version": "3.10.15"
  }
 },
 "nbformat": 4,
 "nbformat_minor": 2
}
